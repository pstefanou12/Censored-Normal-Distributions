{
 "cells": [
  {
   "cell_type": "code",
   "execution_count": 53,
   "metadata": {},
   "outputs": [],
   "source": [
    "import sys \n",
    "sys.path.append('/Users/patroklos/Desktop/delphi_')\n",
    "\n",
    "import torch as ch\n",
    "from torch import Tensor\n",
    "from torch.distributions import Uniform\n",
    "from torch.distributions.log_normal import LogNormal\n",
    "from torch.distributions.multivariate_normal import MultivariateNormal\n",
    "from torch.distributions.kl import kl_divergence\n",
    "\n",
    "import seaborn as sns\n",
    "import matplotlib.pyplot as plt\n",
    "import IPython \n",
    "\n",
    "from delphi.distributions.censored_normal import CensoredNormal\n",
    "from delphi.distributions.truncated_normal import TruncatedNormal\n",
    "from delphi import oracle\n",
    "from delphi.utils import constants as consts\n",
    "from delphi.utils.helpers import Parameters\n",
    "from cox.store import Store\n",
    "from cox.readers import CollectionReader"
   ]
  },
  {
   "cell_type": "code",
   "execution_count": 92,
   "metadata": {},
   "outputs": [],
   "source": [
    "args = Parameters({ \n",
    "    'samples': 1000, \n",
    "    'batch_size': 1, \n",
    "    'tol': 1e-1, \n",
    "    'lr': 1e-1, \n",
    "    'out_dir': '/Users/patroklos/Desktop/exp/log_normal/',\n",
    "    'exp': 'second_exp', \n",
    "    'trials': 20,\n",
    "    'var': 10,\n",
    "    'table_name': 'logs',\n",
    "})"
   ]
  },
  {
   "cell_type": "markdown",
   "metadata": {},
   "source": [
    "Synthetic Data Experiment for 1 Dimensional Censored Gaussian Distributions "
   ]
  },
  {
   "cell_type": "code",
   "execution_count": 39,
   "metadata": {},
   "outputs": [
    {
     "data": {
      "image/png": "[encoded data removed]",
      "text/plain": [
       "<Figure size 432x288 with 1 Axes>"
      ]
     },
     "metadata": {
      "needs_background": "light"
     },
     "output_type": "display_data"
    }
   ],
   "source": [
    "M = LogNormal(Tensor([0.0]), 1.0*ch.ones(1,))\n",
    "samples = M.sample([args.samples])\n",
    "\n",
    "plt.hist(samples.flatten(), bins=100)\n",
    "plt.show()"
   ]
  },
  {
   "cell_type": "code",
   "execution_count": 49,
   "metadata": {},
   "outputs": [],
   "source": [
    "M_ = MultivariateNormal(Tensor([0.0]), 1.0*ch.ones(1, 1))"
   ]
  },
  {
   "cell_type": "markdown",
   "metadata": {},
   "source": [
    "Truncate the Dataset"
   ]
  },
  {
   "cell_type": "code",
   "execution_count": 40,
   "metadata": {},
   "outputs": [
    {
     "name": "stdout",
     "output_type": "stream",
     "text": [
      "alpha: 0.533\n"
     ]
    },
    {
     "data": {
      "image/png": "[encoded data removed]",
      "text/plain": [
       "<Figure size 432x288 with 1 Axes>"
      ]
     },
     "metadata": {
      "needs_background": "light"
     },
     "output_type": "display_data"
    }
   ],
   "source": [
    "phi = oracle.Right_Distribution(Tensor([1.0]))\n",
    "# phi = oracle.Identity()\n",
    "indices = phi(samples).nonzero()[:,0]\n",
    "S = samples[indices]\n",
    "alpha = S.size(0) / samples.size(0)\n",
    "print(\"alpha: {}\".format(alpha))\n",
    "\n",
    "plt.hist(S.flatten(), bins=100)\n",
    "plt.show()"
   ]
  },
  {
   "cell_type": "code",
   "execution_count": 91,
   "metadata": {},
   "outputs": [
    {
     "name": "stdout",
     "output_type": "stream",
     "text": [
      "empirical mean:  tensor([nan])\n",
      "empirical scale:  tensor([[nan]])\n"
     ]
    },
    {
     "ename": "ValueError",
     "evalue": "Expected parameter loc (Tensor of shape (1,)) of distribution MultivariateNormal(loc: tensor([nan]), covariance_matrix: tensor([[nan]])) to satisfy the constraint IndependentConstraint(Real(), 1), but found invalid values:\ntensor([nan])",
     "output_type": "error",
     "traceback": [
      "\u001b[0;31m---------------------------------------------------------------------------\u001b[0m",
      "\u001b[0;31mValueError\u001b[0m                                Traceback (most recent call last)",
      "\u001b[0;32m<ipython-input-91-b20854db5da4>\u001b[0m in \u001b[0;36m<module>\u001b[0;34m\u001b[0m\n\u001b[1;32m      6\u001b[0m \u001b[0mprint\u001b[0m\u001b[0;34m(\u001b[0m\u001b[0;34m\"empirical scale: \"\u001b[0m\u001b[0;34m,\u001b[0m \u001b[0memp_scale\u001b[0m\u001b[0;34m)\u001b[0m\u001b[0;34m\u001b[0m\u001b[0;34m\u001b[0m\u001b[0m\n\u001b[1;32m      7\u001b[0m \u001b[0;34m\u001b[0m\u001b[0m\n\u001b[0;32m----> 8\u001b[0;31m \u001b[0memp\u001b[0m \u001b[0;34m=\u001b[0m \u001b[0mMultivariateNormal\u001b[0m\u001b[0;34m(\u001b[0m\u001b[0memp_loc\u001b[0m\u001b[0;34m,\u001b[0m \u001b[0memp_var\u001b[0m\u001b[0;34m)\u001b[0m\u001b[0;34m\u001b[0m\u001b[0;34m\u001b[0m\u001b[0m\n\u001b[0m\u001b[1;32m      9\u001b[0m \u001b[0;34m\u001b[0m\u001b[0m\n\u001b[1;32m     10\u001b[0m \u001b[0mS_norm\u001b[0m \u001b[0;34m=\u001b[0m \u001b[0;34m(\u001b[0m\u001b[0mS_\u001b[0m \u001b[0;34m-\u001b[0m \u001b[0memp_loc\u001b[0m\u001b[0;34m)\u001b[0m \u001b[0;34m/\u001b[0m \u001b[0memp_scale\u001b[0m\u001b[0;34m\u001b[0m\u001b[0;34m\u001b[0m\u001b[0m\n",
      "\u001b[0;32m/opt/anaconda3/lib/python3.7/site-packages/torch/distributions/multivariate_normal.py\u001b[0m in \u001b[0;36m__init__\u001b[0;34m(self, loc, covariance_matrix, precision_matrix, scale_tril, validate_args)\u001b[0m\n\u001b[1;32m    144\u001b[0m \u001b[0;34m\u001b[0m\u001b[0m\n\u001b[1;32m    145\u001b[0m         \u001b[0mevent_shape\u001b[0m \u001b[0;34m=\u001b[0m \u001b[0mself\u001b[0m\u001b[0;34m.\u001b[0m\u001b[0mloc\u001b[0m\u001b[0;34m.\u001b[0m\u001b[0mshape\u001b[0m\u001b[0;34m[\u001b[0m\u001b[0;34m-\u001b[0m\u001b[0;36m1\u001b[0m\u001b[0;34m:\u001b[0m\u001b[0;34m]\u001b[0m\u001b[0;34m\u001b[0m\u001b[0;34m\u001b[0m\u001b[0m\n\u001b[0;32m--> 146\u001b[0;31m         \u001b[0msuper\u001b[0m\u001b[0;34m(\u001b[0m\u001b[0mMultivariateNormal\u001b[0m\u001b[0;34m,\u001b[0m \u001b[0mself\u001b[0m\u001b[0;34m)\u001b[0m\u001b[0;34m.\u001b[0m\u001b[0m__init__\u001b[0m\u001b[0;34m(\u001b[0m\u001b[0mbatch_shape\u001b[0m\u001b[0;34m,\u001b[0m \u001b[0mevent_shape\u001b[0m\u001b[0;34m,\u001b[0m \u001b[0mvalidate_args\u001b[0m\u001b[0;34m=\u001b[0m\u001b[0mvalidate_args\u001b[0m\u001b[0;34m)\u001b[0m\u001b[0;34m\u001b[0m\u001b[0;34m\u001b[0m\u001b[0m\n\u001b[0m\u001b[1;32m    147\u001b[0m \u001b[0;34m\u001b[0m\u001b[0m\n\u001b[1;32m    148\u001b[0m         \u001b[0;32mif\u001b[0m \u001b[0mscale_tril\u001b[0m \u001b[0;32mis\u001b[0m \u001b[0;32mnot\u001b[0m \u001b[0;32mNone\u001b[0m\u001b[0;34m:\u001b[0m\u001b[0;34m\u001b[0m\u001b[0;34m\u001b[0m\u001b[0m\n",
      "\u001b[0;32m/opt/anaconda3/lib/python3.7/site-packages/torch/distributions/distribution.py\u001b[0m in \u001b[0;36m__init__\u001b[0;34m(self, batch_shape, event_shape, validate_args)\u001b[0m\n\u001b[1;32m     54\u001b[0m                 \u001b[0;32mif\u001b[0m \u001b[0;32mnot\u001b[0m \u001b[0mvalid\u001b[0m\u001b[0;34m.\u001b[0m\u001b[0mall\u001b[0m\u001b[0;34m(\u001b[0m\u001b[0;34m)\u001b[0m\u001b[0;34m:\u001b[0m\u001b[0;34m\u001b[0m\u001b[0;34m\u001b[0m\u001b[0m\n\u001b[1;32m     55\u001b[0m                     raise ValueError(\n\u001b[0;32m---> 56\u001b[0;31m                         \u001b[0;34mf\"Expected parameter {param} \"\u001b[0m\u001b[0;34m\u001b[0m\u001b[0;34m\u001b[0m\u001b[0m\n\u001b[0m\u001b[1;32m     57\u001b[0m                         \u001b[0;34mf\"({type(value).__name__} of shape {tuple(value.shape)}) \"\u001b[0m\u001b[0;34m\u001b[0m\u001b[0;34m\u001b[0m\u001b[0m\n\u001b[1;32m     58\u001b[0m                         \u001b[0;34mf\"of distribution {repr(self)} \"\u001b[0m\u001b[0;34m\u001b[0m\u001b[0;34m\u001b[0m\u001b[0m\n",
      "\u001b[0;31mValueError\u001b[0m: Expected parameter loc (Tensor of shape (1,)) of distribution MultivariateNormal(loc: tensor([nan]), covariance_matrix: tensor([[nan]])) to satisfy the constraint IndependentConstraint(Real(), 1), but found invalid values:\ntensor([nan])"
     ]
    }
   ],
   "source": [
    "S_ = ch.log(S)\n",
    "emp_loc = S_.mean(0).flatten()\n",
    "print(\"empirical mean: \", emp_loc)\n",
    "emp_var = S_.var(0)[...,None]\n",
    "emp_scale = ch.sqrt(emp_var)\n",
    "print(\"empirical scale: \", emp_scale)\n",
    "\n",
    "emp = MultivariateNormal(emp_loc, emp_var)\n",
    "\n",
    "S_norm = (S_ - emp_loc) / emp_scale\n",
    "phi_norm = oracle.Right_Distribution(((ch.log(phi.right) - emp_loc) / emp_scale).flatten())"
   ]
  },
  {
   "cell_type": "markdown",
   "metadata": {},
   "source": [
    "Run algorithm to Remove Bias from the Dataset"
   ]
  },
  {
   "cell_type": "code",
   "execution_count": 51,
   "metadata": {},
   "outputs": [
    {
     "name": "stdout",
     "output_type": "stream",
     "text": [
      "estimated mean:  tensor([[-0.2582]])\n",
      "estimated variance:  tensor([[0.7596]])\n"
     ]
    }
   ],
   "source": [
    "train_kwargs = Parameters({'phi': phi_norm, \n",
    "                           'alpha': alpha,\n",
    "                          'epochs': 5, \n",
    "                          'batch_size': 10, \n",
    "                          'num_samples': 10,\n",
    "                          'step_lr': 500,\n",
    "                          'lr': 1e-1})\n",
    "censored = CensoredNormal(train_kwargs)\n",
    "censored.fit(S_norm)\n",
    "rescale_loc = censored.loc * emp_scale + emp_loc\n",
    "rescale_var = censored.variance * emp_var\n",
    "m = MultivariateNormal(rescale_loc, rescale_var)\n",
    "print(\"estimated mean: \", rescale_loc)\n",
    "print(\"estimated variance: \", rescale_var)"
   ]
  },
  {
   "cell_type": "code",
   "execution_count": 52,
   "metadata": {},
   "outputs": [
    {
     "name": "stdout",
     "output_type": "stream",
     "text": [
      "censored kl divergence:  tensor([0.0506])\n",
      "empirical kl divergence:  tensor(0.5426)\n"
     ]
    }
   ],
   "source": [
    "print(\"censored kl divergence: \", kl_divergence(m, M_))\n",
    "print(\"empirical kl divergence: \", kl_divergence(emp, M_))"
   ]
  },
  {
   "cell_type": "code",
   "execution_count": 60,
   "metadata": {},
   "outputs": [
    {
     "name": "stdout",
     "output_type": "stream",
     "text": [
      "estimated mean:  tensor([-0.4364])\n",
      "estimated variance:  tensor([[0.8026]])\n"
     ]
    }
   ],
   "source": [
    "train_kwargs = Parameters({'alpha': alpha,\n",
    "                          'epochs': 10, \n",
    "                          'batch_size': 10, \n",
    "                          'step_lr': 500,\n",
    "                          'lr': 1e-1})\n",
    "truncated = TruncatedNormal(train_kwargs)\n",
    "truncated.fit(S_)\n",
    "rescale_loc = truncated.loc\n",
    "rescale_var = truncated.variance\n",
    "m = MultivariateNormal(rescale_loc, rescale_var)\n",
    "print(\"estimated mean: \", rescale_loc)\n",
    "print(\"estimated variance: \", rescale_var)"
   ]
  },
  {
   "cell_type": "code",
   "execution_count": 61,
   "metadata": {},
   "outputs": [
    {
     "name": "stdout",
     "output_type": "stream",
     "text": [
      "truncated kl divergence:  tensor(0.1064)\n",
      "empirical kl divergence:  tensor(0.5426)\n"
     ]
    }
   ],
   "source": [
    "print(\"truncated kl divergence: \", kl_divergence(m, M_))\n",
    "print(\"empirical kl divergence: \", kl_divergence(emp, M_))"
   ]
  },
  {
   "cell_type": "code",
   "execution_count": 97,
   "metadata": {},
   "outputs": [],
   "source": [
    "store = Store(args.out_dir + '/' + args.exp)\n",
    "\n",
    "schema = { \n",
    "    'kl_div_emp': float, \n",
    "    'kl_div_censored': float,\n",
    "    'var': int,\n",
    "    'alpha': float,\n",
    "}\n",
    "\n",
    "store.add_table(args.table_name, schema)\n",
    "\n",
    "for i in range(args.trials): \n",
    "    gt_loc = Uniform(-1, 1).sample([1,])\n",
    "    for var in range(1, args.var + 1):\n",
    "        # create new dataset\n",
    "        gt_var = var * ch.ones(1,)\n",
    "        gt_dist = LogNormal(gt_loc, ch.sqrt(gt_var))\n",
    "        samples = gt_dist.sample([args.samples])\n",
    "        samples_ = ch.log(samples)\n",
    "        M = MultivariateNormal(samples_.mean(0), samples_.var(0)[...,None])\n",
    "\n",
    "        # right truncate at 0\n",
    "        phi = oracle.Right_Distribution(Tensor([1.0]))\n",
    "        indices = phi(samples).nonzero()[:,0]\n",
    "        # exponentiate samples\n",
    "        S = samples[indices]\n",
    "        S_ = ch.log(S)\n",
    "        alpha = S.size(0) / samples.size(0)\n",
    "\n",
    "        emp_dist = MultivariateNormal(S_.mean(0), S_.var(0)[...,None])\n",
    "\n",
    "        S_norm = (S - emp_dist.loc) / ch.sqrt(emp_dist.covariance_matrix)\n",
    "        phi_norm = oracle.Right_Distribution(((phi.right - emp_dist.loc) / ch.sqrt(emp_dist.covariance_matrix)).flatten())\n",
    "\n",
    "        train_kwargs = Parameters({'phi': phi_norm, \n",
    "                                   'alpha': alpha,\n",
    "                                    'epochs': 10, \n",
    "                                    'batch_size': 100, \n",
    "                                    'num_samples': 10,\n",
    "                                    'lr': 1e-1})\n",
    "\n",
    "        censored = CensoredNormal(train_kwargs)\n",
    "        censored.fit(S_norm)\n",
    "\n",
    "\n",
    "        loc_ = (censored.loc * ch.sqrt(emp_dist.covariance_matrix)) + emp_dist.loc\n",
    "        var_ = censored.variance * emp_dist.covariance_matrix\n",
    "\n",
    "        censor_dist = MultivariateNormal(loc_, var_)\n",
    "\n",
    "        kl_censor = float(kl_divergence(M, censor_dist))\n",
    "        kl_emp = float(kl_divergence(M, emp_dist))\n",
    "\n",
    "\n",
    "        store[args.table_name].update_row({ \n",
    "            'kl_div_emp': kl_emp, \n",
    "            'kl_div_censored': kl_censor,\n",
    "            'var': var,\n",
    "            'alpha': alpha,\n",
    "        })\n",
    "        store[args.table_name].flush_row()\n",
    "        \n",
    "        IPython.display.clear_output()\n",
    "\n",
    "    \n",
    "store.close()"
   ]
  },
  {
   "cell_type": "code",
   "execution_count": 98,
   "metadata": {},
   "outputs": [
    {
     "name": "stderr",
     "output_type": "stream",
     "text": [
      "100%|██████████| 5/5 [00:00<00:00, 371.53it/s]"
     ]
    },
    {
     "name": "stdout",
     "output_type": "stream",
     "text": [
      "Warning: exp_id c2cba87c-4e61-4ade-8b5a-8796391ef857 has no table 'logs'. Skipping.\n",
      "Warning: exp_id 1ca2b5ea-6bef-49a7-bfc2-db25643c527d has no table 'logs'. Skipping.\n",
      "Warning: exp_id 05e7b958-8ce3-4503-aef7-5e9d3aaa9063 has no table 'logs'. Skipping.\n",
      "Warning: exp_id 9602bb80-e066-4445-9b45-ad5c5312d9e9 has no table 'logs'. Skipping.\n"
     ]
    },
    {
     "name": "stderr",
     "output_type": "stream",
     "text": [
      "\n"
     ]
    },
    {
     "data": {
      "text/html": [
       "<div>\n",
       "<style scoped>\n",
       "    .dataframe tbody tr th:only-of-type {\n",
       "        vertical-align: middle;\n",
       "    }\n",
       "\n",
       "    .dataframe tbody tr th {\n",
       "        vertical-align: top;\n",
       "    }\n",
       "\n",
       "    .dataframe thead th {\n",
       "        text-align: right;\n",
       "    }\n",
       "</style>\n",
       "<table border=\"1\" class=\"dataframe\">\n",
       "  <thead>\n",
       "    <tr style=\"text-align: right;\">\n",
       "      <th></th>\n",
       "      <th>kl_div_emp</th>\n",
       "      <th>kl_div_censored</th>\n",
       "      <th>var</th>\n",
       "      <th>alpha</th>\n",
       "      <th>exp_id</th>\n",
       "    </tr>\n",
       "  </thead>\n",
       "  <tbody>\n",
       "    <tr>\n",
       "      <td>0</td>\n",
       "      <td>1.600170</td>\n",
       "      <td>7.319287</td>\n",
       "      <td>1</td>\n",
       "      <td>0.453</td>\n",
       "      <td>fff28041-b454-4a21-9193-7004f4c9c218</td>\n",
       "    </tr>\n",
       "    <tr>\n",
       "      <td>1</td>\n",
       "      <td>1.363928</td>\n",
       "      <td>13.086485</td>\n",
       "      <td>2</td>\n",
       "      <td>0.461</td>\n",
       "      <td>fff28041-b454-4a21-9193-7004f4c9c218</td>\n",
       "    </tr>\n",
       "    <tr>\n",
       "      <td>2</td>\n",
       "      <td>1.363856</td>\n",
       "      <td>18.314875</td>\n",
       "      <td>3</td>\n",
       "      <td>0.466</td>\n",
       "      <td>fff28041-b454-4a21-9193-7004f4c9c218</td>\n",
       "    </tr>\n",
       "    <tr>\n",
       "      <td>3</td>\n",
       "      <td>1.685957</td>\n",
       "      <td>27.465103</td>\n",
       "      <td>4</td>\n",
       "      <td>0.451</td>\n",
       "      <td>fff28041-b454-4a21-9193-7004f4c9c218</td>\n",
       "    </tr>\n",
       "    <tr>\n",
       "      <td>4</td>\n",
       "      <td>1.590561</td>\n",
       "      <td>28.850222</td>\n",
       "      <td>5</td>\n",
       "      <td>0.459</td>\n",
       "      <td>fff28041-b454-4a21-9193-7004f4c9c218</td>\n",
       "    </tr>\n",
       "    <tr>\n",
       "      <td>5</td>\n",
       "      <td>1.303516</td>\n",
       "      <td>38.340576</td>\n",
       "      <td>6</td>\n",
       "      <td>0.465</td>\n",
       "      <td>fff28041-b454-4a21-9193-7004f4c9c218</td>\n",
       "    </tr>\n",
       "    <tr>\n",
       "      <td>6</td>\n",
       "      <td>1.237974</td>\n",
       "      <td>40.213161</td>\n",
       "      <td>7</td>\n",
       "      <td>0.479</td>\n",
       "      <td>fff28041-b454-4a21-9193-7004f4c9c218</td>\n",
       "    </tr>\n",
       "    <tr>\n",
       "      <td>7</td>\n",
       "      <td>1.175969</td>\n",
       "      <td>52.188328</td>\n",
       "      <td>8</td>\n",
       "      <td>0.494</td>\n",
       "      <td>fff28041-b454-4a21-9193-7004f4c9c218</td>\n",
       "    </tr>\n",
       "    <tr>\n",
       "      <td>8</td>\n",
       "      <td>1.478107</td>\n",
       "      <td>64.250610</td>\n",
       "      <td>9</td>\n",
       "      <td>0.473</td>\n",
       "      <td>fff28041-b454-4a21-9193-7004f4c9c218</td>\n",
       "    </tr>\n",
       "    <tr>\n",
       "      <td>9</td>\n",
       "      <td>1.392226</td>\n",
       "      <td>75.695442</td>\n",
       "      <td>10</td>\n",
       "      <td>0.474</td>\n",
       "      <td>fff28041-b454-4a21-9193-7004f4c9c218</td>\n",
       "    </tr>\n",
       "  </tbody>\n",
       "</table>\n",
       "</div>"
      ],
      "text/plain": [
       "   kl_div_emp  kl_div_censored  var  alpha  \\\n",
       "0    1.600170         7.319287    1  0.453   \n",
       "1    1.363928        13.086485    2  0.461   \n",
       "2    1.363856        18.314875    3  0.466   \n",
       "3    1.685957        27.465103    4  0.451   \n",
       "4    1.590561        28.850222    5  0.459   \n",
       "5    1.303516        38.340576    6  0.465   \n",
       "6    1.237974        40.213161    7  0.479   \n",
       "7    1.175969        52.188328    8  0.494   \n",
       "8    1.478107        64.250610    9  0.473   \n",
       "9    1.392226        75.695442   10  0.474   \n",
       "\n",
       "                                 exp_id  \n",
       "0  fff28041-b454-4a21-9193-7004f4c9c218  \n",
       "1  fff28041-b454-4a21-9193-7004f4c9c218  \n",
       "2  fff28041-b454-4a21-9193-7004f4c9c218  \n",
       "3  fff28041-b454-4a21-9193-7004f4c9c218  \n",
       "4  fff28041-b454-4a21-9193-7004f4c9c218  \n",
       "5  fff28041-b454-4a21-9193-7004f4c9c218  \n",
       "6  fff28041-b454-4a21-9193-7004f4c9c218  \n",
       "7  fff28041-b454-4a21-9193-7004f4c9c218  \n",
       "8  fff28041-b454-4a21-9193-7004f4c9c218  \n",
       "9  fff28041-b454-4a21-9193-7004f4c9c218  "
      ]
     },
     "execution_count": 98,
     "metadata": {},
     "output_type": "execute_result"
    }
   ],
   "source": [
    "reader = CollectionReader(args.out_dir + args.exp)\n",
    "logs = reader.df(args.table_name)\n",
    "reader.close()\n",
    "logs.head(10)"
   ]
  },
  {
   "cell_type": "code",
   "execution_count": 99,
   "metadata": {},
   "outputs": [
    {
     "name": "stdout",
     "output_type": "stream",
     "text": [
      "kl emp div: 1.554237509071827\n",
      "kl censor div: 38.92602833747864\n"
     ]
    }
   ],
   "source": [
    "print(\"kl emp div: {}\".format(logs.kl_div_emp.mean()))\n",
    "print(\"kl censor div: {}\".format(logs.kl_div_censored.mean()))"
   ]
  },
  {
   "cell_type": "code",
   "execution_count": 100,
   "metadata": {},
   "outputs": [
    {
     "data": {
      "image/png": "[encoded data removed]",
      "text/plain": [
       "<Figure size 432x288 with 1 Axes>"
      ]
     },
     "metadata": {
      "needs_background": "light"
     },
     "output_type": "display_data"
    }
   ],
   "source": [
    "sns.lineplot(data=logs, x='var', y='kl_div_emp', color='red', label='Empirical Estimate')\n",
    "ax = sns.lineplot(data=logs, x='var', y='kl_div_censored', color='blue', label='Censored Estimate')\n",
    "ax.set_title('Censored Normal Varying Distribution Variance')\n",
    "ax.set_xlabel('$\\Sigma$')\n",
    "ax.set_ylabel('$D_{KL}(\\mathcal{N}(\\widetilde{\\mu}, \\widetilde{\\Sigma}) || \\mathcal{N}(\\mu^{*}, \\Sigma^{*}))$')\n",
    "ax.set_title('Variance 10 - 1D Censored')\n",
    "ax.legend()\n",
    "plt.show()"
   ]
  },
  {
   "cell_type": "code",
   "execution_count": 54,
   "metadata": {},
   "outputs": [],
   "source": [
    "gt_dist = MultivariateNormal(ch.zeros(1) + .5, ch.ones(1, 1))"
   ]
  },
  {
   "cell_type": "code",
   "execution_count": 90,
   "metadata": {},
   "outputs": [
    {
     "data": {
      "text/plain": [
       "(tensor([-1.5845]), tensor([-2.7102]))"
      ]
     },
     "execution_count": 90,
     "metadata": {},
     "output_type": "execute_result"
    }
   ],
   "source": [
    "ch.log(samples[indices].mean(0)), S.mean(0)"
   ]
  },
  {
   "cell_type": "code",
   "execution_count": 88,
   "metadata": {},
   "outputs": [
    {
     "data": {
      "text/plain": [
       "tensor([-2.7102])"
      ]
     },
     "execution_count": 88,
     "metadata": {},
     "output_type": "execute_result"
    }
   ],
   "source": [
    "ch.log(samples[indices]).mean(0)"
   ]
  },
  {
   "cell_type": "code",
   "execution_count": 13,
   "metadata": {},
   "outputs": [],
   "source": [
    "test = ch.randn(5,)"
   ]
  },
  {
   "cell_type": "code",
   "execution_count": 14,
   "metadata": {},
   "outputs": [
    {
     "data": {
      "text/plain": [
       "Parameter containing:\n",
       "tensor([-0.6663, -2.3218,  0.3456,  1.4994,  1.4930], requires_grad=True)"
      ]
     },
     "execution_count": 14,
     "metadata": {},
     "output_type": "execute_result"
    }
   ],
   "source": [
    "ch.nn.Parameter(test)"
   ]
  },
  {
   "cell_type": "code",
   "execution_count": null,
   "metadata": {},
   "outputs": [],
   "source": []
  }
 ],
 "metadata": {
  "kernelspec": {
   "display_name": "Python 2",
   "language": "python",
   "name": "python2"
  },
  "language_info": {
   "codemirror_mode": {
    "name": "ipython",
    "version": 3
   },
   "file_extension": ".py",
   "mimetype": "text/x-python",
   "name": "python",
   "nbconvert_exporter": "python",
   "pygments_lexer": "ipython3",
   "version": "3.7.4"
  }
 },
 "nbformat": 4,
 "nbformat_minor": 2
}
