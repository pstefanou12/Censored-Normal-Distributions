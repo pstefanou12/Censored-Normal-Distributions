{
 "cells": [
  {
   "cell_type": "code",
   "execution_count": 2,
   "metadata": {},
   "outputs": [],
   "source": [
    "import sys \n",
    "sys.path.append('/Users/patroklos/Desktop/delphi_')\n",
    "\n",
    "import torch as ch\n",
    "from torch import Tensor\n",
    "from torch.distributions.multivariate_normal import MultivariateNormal\n",
    "from torch.distributions.kl import kl_divergence\n",
    "\n",
    "import matplotlib.pyplot as plt\n",
    "import IPython \n",
    "\n",
    "from delphi.distributions.normal import CensoredNormal\n",
    "from delphi import oracle\n",
    "from delphi.utils import constants as consts\n",
    "from delphi.utils.helpers import setup_store_with_metadata\n",
    "from cox.utils import Parameters\n",
    "from cox.store import Store\n",
    "from cox.readers import CollectionReader\n",
    "\n",
    "TABLE_NAME = 'logs'"
   ]
  },
  {
   "cell_type": "code",
   "execution_count": 4,
   "metadata": {},
   "outputs": [],
   "source": [
    "args = Parameters({ \n",
    "    'samples': 1000, \n",
    "    'batch_size': 1, \n",
    "    'tol': 1e-1, \n",
    "    'lr': 1e-1, \n",
    "    'out_dir': '/Users/patroklos/Desktop/exp',\n",
    "    'exp': 'tryingToDebugCensored', \n",
    "    'trials': 10,\n",
    "    'var': 1.0,\n",
    "})\n"
   ]
  },
  {
   "cell_type": "markdown",
   "metadata": {},
   "source": [
    "Synthetic Data Experiment for 1 Dimensional Censored Gaussian Distributions "
   ]
  },
  {
   "cell_type": "code",
   "execution_count": 95,
   "metadata": {},
   "outputs": [
    {
     "data": {
      "image/png": "[encoded data removed]",
      "text/plain": [
       "<Figure size 432x288 with 1 Axes>"
      ]
     },
     "metadata": {
      "needs_background": "light"
     },
     "output_type": "display_data"
    }
   ],
   "source": [
    "M = MultivariateNormal(Tensor([0.0]), 1.0*ch.ones(1, 1))\n",
    "samples = M.sample([args.samples])\n",
    "\n",
    "plt.hist(samples.flatten(), bins=100)\n",
    "plt.show()"
   ]
  },
  {
   "cell_type": "markdown",
   "metadata": {},
   "source": [
    "Truncate the Dataset"
   ]
  },
  {
   "cell_type": "code",
   "execution_count": 96,
   "metadata": {},
   "outputs": [
    {
     "name": "stdout",
     "output_type": "stream",
     "text": [
      "alpha: 0.8432\n"
     ]
    },
    {
     "data": {
      "image/png": "[encoded data removed]",
      "text/plain": [
       "<Figure size 432x288 with 1 Axes>"
      ]
     },
     "metadata": {
      "needs_background": "light"
     },
     "output_type": "display_data"
    }
   ],
   "source": [
    "phi = oracle.Right(Tensor([1.0]))\n",
    "# phi = oracle.Identity()\n",
    "indices = phi(samples).nonzero()[:,0]\n",
    "S = samples[indices]\n",
    "alpha = S.size(0) / samples.size(0)\n",
    "print(\"alpha: {}\".format(alpha))\n",
    "\n",
    "plt.hist(S.flatten(), bins=100)\n",
    "plt.show()"
   ]
  },
  {
   "cell_type": "code",
   "execution_count": 97,
   "metadata": {},
   "outputs": [
    {
     "name": "stdout",
     "output_type": "stream",
     "text": [
      "empirical mean:  tensor([-0.2742])\n",
      "empirical scale:  tensor([0.7833])\n"
     ]
    }
   ],
   "source": [
    "emp_loc = S.mean(0)\n",
    "print(\"empirical mean: \", emp_loc)\n",
    "emp_scale = ch.sqrt(S.var(0))\n",
    "print(\"empirical scale: \", emp_scale)\n",
    "\n",
    "S_norm = (S - emp_loc) / emp_scale\n",
    "phi_norm = oracle.Right((phi.right - emp_loc) / emp_scale)"
   ]
  },
  {
   "cell_type": "markdown",
   "metadata": {},
   "source": [
    "Run algorithm to Remove Bias from the Dataset"
   ]
  },
  {
   "cell_type": "code",
   "execution_count": 98,
   "metadata": {},
   "outputs": [
    {
     "name": "stdout",
     "output_type": "stream",
     "text": [
      "Iteration 1 | Log Likelihood: 0.203\n"
     ]
    }
   ],
   "source": [
    "censored = CensoredNormal(phi=phi_norm, \n",
    "                          alpha=alpha, \n",
    "                          iter_=1, \n",
    "                          bs=10, \n",
    "                          num_samples=10,\n",
    "#                           step_lr=100,\n",
    "#                           step_lr=50,\n",
    "                          lr=1e-1)\n",
    "#                           custom_lr_multiplier='adam')\n",
    "censored.fit(S_norm)"
   ]
  },
  {
   "cell_type": "code",
   "execution_count": 99,
   "metadata": {},
   "outputs": [
    {
     "data": {
      "text/plain": [
       "tensor(-0.1163, grad_fn=<MeanBackward0>)"
      ]
     },
     "execution_count": 99,
     "metadata": {},
     "output_type": "execute_result"
    }
   ],
   "source": [
    "(censored.censored_normal.loc_est * emp_scale + emp_loc).mean()"
   ]
  },
  {
   "cell_type": "code",
   "execution_count": 100,
   "metadata": {},
   "outputs": [
    {
     "data": {
      "text/plain": [
       "tensor(0.5371, grad_fn=<MeanBackward0>)"
      ]
     },
     "execution_count": 100,
     "metadata": {},
     "output_type": "execute_result"
    }
   ],
   "source": [
    "(censored.censored_normal.cov_est * emp_scale).mean()"
   ]
  },
  {
   "cell_type": "code",
   "execution_count": 5,
   "metadata": {},
   "outputs": [
    {
     "name": "stdout",
     "output_type": "stream",
     "text": [
      "Logging in: /Users/patroklos/Desktop/exp/tryingToDebugCensored/6fdba0e2-8644-4367-95c3-a5af1a97c30f\n",
      "Iteration 1 | Log Likelihood: 0.154\n",
      "Iteration 1 | Log Likelihood: 0.201\n",
      "Iteration 1 | Log Likelihood: 0.034\n",
      "Iteration 1 | Log Likelihood: 0.012\n",
      "Iteration 1 | Log Likelihood: 0.062\n",
      "Iteration 1 | Log Likelihood: 0.087\n",
      "Iteration 1 | Log Likelihood: 0.128\n",
      "Iteration 1 | Log Likelihood: 0.05\n",
      "Iteration 1 | Log Likelihood: 0.228\n",
      "Iteration 1 | Log Likelihood: 0.102\n"
     ]
    }
   ],
   "source": [
    "store = Store(args.out_dir + '/' + args.exp)\n",
    "\n",
    "schema = { \n",
    "    'kl_div_emp': float, \n",
    "    'kl_div_censored': float,\n",
    "    'kl_div_censored_avg': float,\n",
    "\n",
    "}\n",
    "\n",
    "store.add_table(TABLE_NAME, schema)\n",
    "\n",
    "for i in range(args.trials): \n",
    "    # create new dataset\n",
    "    gt_loc, gt_scale = Tensor([0.0]), args.var * ch.ones(1, 1)\n",
    "    gt_dist = MultivariateNormal(gt_loc, gt_scale)\n",
    "    samples = gt_dist.sample([args.samples])\n",
    "\n",
    "    # right truncate at 0\n",
    "    phi = oracle.Right(Tensor([0.0]))\n",
    "    indices = phi(samples).nonzero()[:,0]\n",
    "    S = samples[indices]\n",
    "    alpha = S.size(0) / samples.size(0)\n",
    "    \n",
    "    emp_dist = MultivariateNormal(S.mean(0), S.var(0) * ch.ones(1, 1))\n",
    "\n",
    "    S_norm = (S - emp_dist.loc) / ch.sqrt(emp_dist.covariance_matrix) \n",
    "    phi_norm = oracle.Right((phi.right - emp_dist.loc) / ch.sqrt(emp_dist.covariance_matrix))\n",
    "    \n",
    "    \n",
    "    censored = CensoredNormal(phi=phi_norm, \n",
    "                          alpha=alpha, \n",
    "                          iter_=1, \n",
    "                          bs=10, \n",
    "                          num_samples=100,\n",
    "                          lr=1e-1)\n",
    "    censored.fit(S_norm)\n",
    "    \n",
    "    \n",
    "    loc_ = (censored.loc * censored.scale.inverse() * ch.sqrt(emp_dist.covariance_matrix)) + emp_dist.loc\n",
    "    scale_ = censored.scale.inverse() * emp_dist.covariance_matrix\n",
    "    \n",
    "    censor_dist = MultivariateNormal(loc_, scale_)\n",
    "    \n",
    "    loc_avg_ = (censored.censored_normal.loc_est.mean() * censored.censored_normal.cov_est.mean(1)[None,...].inverse() * ch.sqrt(emp_dist.covariance_matrix)) + emp_dist.loc\n",
    "    scale_avg_ = censored.censored_normal.cov_est.mean(1)[None,...].inverse() * emp_dist.covariance_matrix\n",
    "    \n",
    "    \n",
    "    censor_dist_avg = MultivariateNormal(loc_avg_, scale_avg_)\n",
    "\n",
    "    kl_censor = float(kl_divergence(gt_dist, censor_dist))\n",
    "    kl_censor_avg = float(kl_divergence(gt_dist, censor_dist_avg))\n",
    "    kl_emp = float(kl_divergence(gt_dist, emp_dist))\n",
    "    \n",
    "    \n",
    "    store[TABLE_NAME].update_row({ \n",
    "        'kl_div_emp': kl_emp, \n",
    "        'kl_div_censored_avg': kl_censor_avg, \n",
    "        'kl_div_censored': kl_censor,\n",
    "    })\n",
    "    store[TABLE_NAME].flush_row()\n",
    "    \n",
    "store.close()"
   ]
  },
  {
   "cell_type": "code",
   "execution_count": 6,
   "metadata": {},
   "outputs": [
    {
     "name": "stderr",
     "output_type": "stream",
     "text": [
      "100%|██████████| 2/2 [00:00<00:00, 110.38it/s]\n"
     ]
    },
    {
     "data": {
      "text/html": [
       "<div>\n",
       "<style scoped>\n",
       "    .dataframe tbody tr th:only-of-type {\n",
       "        vertical-align: middle;\n",
       "    }\n",
       "\n",
       "    .dataframe tbody tr th {\n",
       "        vertical-align: top;\n",
       "    }\n",
       "\n",
       "    .dataframe thead th {\n",
       "        text-align: right;\n",
       "    }\n",
       "</style>\n",
       "<table border=\"1\" class=\"dataframe\">\n",
       "  <thead>\n",
       "    <tr style=\"text-align: right;\">\n",
       "      <th></th>\n",
       "      <th>kl_div_emp</th>\n",
       "      <th>kl_div_censored</th>\n",
       "      <th>kl_div_censored_avg</th>\n",
       "      <th>exp_id</th>\n",
       "    </tr>\n",
       "  </thead>\n",
       "  <tbody>\n",
       "    <tr>\n",
       "      <td>0</td>\n",
       "      <td>1.235775</td>\n",
       "      <td>0.001650</td>\n",
       "      <td>0.020101</td>\n",
       "      <td>5db16f6f-6b96-4c79-8b3f-772dd7094934</td>\n",
       "    </tr>\n",
       "    <tr>\n",
       "      <td>1</td>\n",
       "      <td>1.253376</td>\n",
       "      <td>0.000701</td>\n",
       "      <td>0.303619</td>\n",
       "      <td>5db16f6f-6b96-4c79-8b3f-772dd7094934</td>\n",
       "    </tr>\n",
       "    <tr>\n",
       "      <td>0</td>\n",
       "      <td>1.346924</td>\n",
       "      <td>0.357648</td>\n",
       "      <td>0.742996</td>\n",
       "      <td>6fdba0e2-8644-4367-95c3-a5af1a97c30f</td>\n",
       "    </tr>\n",
       "    <tr>\n",
       "      <td>1</td>\n",
       "      <td>1.210746</td>\n",
       "      <td>0.383271</td>\n",
       "      <td>0.534921</td>\n",
       "      <td>6fdba0e2-8644-4367-95c3-a5af1a97c30f</td>\n",
       "    </tr>\n",
       "    <tr>\n",
       "      <td>2</td>\n",
       "      <td>1.346981</td>\n",
       "      <td>0.017608</td>\n",
       "      <td>0.585634</td>\n",
       "      <td>6fdba0e2-8644-4367-95c3-a5af1a97c30f</td>\n",
       "    </tr>\n",
       "    <tr>\n",
       "      <td>3</td>\n",
       "      <td>1.127310</td>\n",
       "      <td>0.243986</td>\n",
       "      <td>0.625361</td>\n",
       "      <td>6fdba0e2-8644-4367-95c3-a5af1a97c30f</td>\n",
       "    </tr>\n",
       "    <tr>\n",
       "      <td>4</td>\n",
       "      <td>1.162476</td>\n",
       "      <td>0.189899</td>\n",
       "      <td>0.529426</td>\n",
       "      <td>6fdba0e2-8644-4367-95c3-a5af1a97c30f</td>\n",
       "    </tr>\n",
       "    <tr>\n",
       "      <td>5</td>\n",
       "      <td>1.200236</td>\n",
       "      <td>0.058970</td>\n",
       "      <td>0.510890</td>\n",
       "      <td>6fdba0e2-8644-4367-95c3-a5af1a97c30f</td>\n",
       "    </tr>\n",
       "    <tr>\n",
       "      <td>6</td>\n",
       "      <td>1.253638</td>\n",
       "      <td>0.034767</td>\n",
       "      <td>0.473990</td>\n",
       "      <td>6fdba0e2-8644-4367-95c3-a5af1a97c30f</td>\n",
       "    </tr>\n",
       "    <tr>\n",
       "      <td>7</td>\n",
       "      <td>1.152331</td>\n",
       "      <td>0.190315</td>\n",
       "      <td>0.541707</td>\n",
       "      <td>6fdba0e2-8644-4367-95c3-a5af1a97c30f</td>\n",
       "    </tr>\n",
       "  </tbody>\n",
       "</table>\n",
       "</div>"
      ],
      "text/plain": [
       "   kl_div_emp  kl_div_censored  kl_div_censored_avg  \\\n",
       "0    1.235775         0.001650             0.020101   \n",
       "1    1.253376         0.000701             0.303619   \n",
       "0    1.346924         0.357648             0.742996   \n",
       "1    1.210746         0.383271             0.534921   \n",
       "2    1.346981         0.017608             0.585634   \n",
       "3    1.127310         0.243986             0.625361   \n",
       "4    1.162476         0.189899             0.529426   \n",
       "5    1.200236         0.058970             0.510890   \n",
       "6    1.253638         0.034767             0.473990   \n",
       "7    1.152331         0.190315             0.541707   \n",
       "\n",
       "                                 exp_id  \n",
       "0  5db16f6f-6b96-4c79-8b3f-772dd7094934  \n",
       "1  5db16f6f-6b96-4c79-8b3f-772dd7094934  \n",
       "0  6fdba0e2-8644-4367-95c3-a5af1a97c30f  \n",
       "1  6fdba0e2-8644-4367-95c3-a5af1a97c30f  \n",
       "2  6fdba0e2-8644-4367-95c3-a5af1a97c30f  \n",
       "3  6fdba0e2-8644-4367-95c3-a5af1a97c30f  \n",
       "4  6fdba0e2-8644-4367-95c3-a5af1a97c30f  \n",
       "5  6fdba0e2-8644-4367-95c3-a5af1a97c30f  \n",
       "6  6fdba0e2-8644-4367-95c3-a5af1a97c30f  \n",
       "7  6fdba0e2-8644-4367-95c3-a5af1a97c30f  "
      ]
     },
     "execution_count": 6,
     "metadata": {},
     "output_type": "execute_result"
    }
   ],
   "source": [
    "reader = CollectionReader(args.out_dir + '/' + args.exp)\n",
    "logs = reader.df(TABLE_NAME)\n",
    "reader.close()\n",
    "logs.head(10)"
   ]
  },
  {
   "cell_type": "code",
   "execution_count": 7,
   "metadata": {},
   "outputs": [
    {
     "name": "stdout",
     "output_type": "stream",
     "text": [
      "kl emp div: 1.2433069745699565\n",
      "kl censor div: 0.5049001077810923\n",
      "kl censor avg div: 0.17924688383936882\n"
     ]
    }
   ],
   "source": [
    "print(\"kl emp div: {}\".format(logs.kl_div_emp.mean()))\n",
    "print(\"kl censor div: {}\".format(logs.kl_div_censored_avg.mean()))\n",
    "print(\"kl censor avg div: {}\".format(logs.kl_div_censored.mean()))"
   ]
  },
  {
   "cell_type": "code",
   "execution_count": 51,
   "metadata": {},
   "outputs": [],
   "source": [
    "emp_dist = MultivariateNormal(ch.zeros(1), ch.ones(1, 1))"
   ]
  },
  {
   "cell_type": "code",
   "execution_count": 54,
   "metadata": {},
   "outputs": [],
   "source": [
    "gt_dist = MultivariateNormal(ch.zeros(1) + .5, ch.ones(1, 1))"
   ]
  },
  {
   "cell_type": "code",
   "execution_count": 55,
   "metadata": {},
   "outputs": [
    {
     "data": {
      "text/plain": [
       "tensor(0.1250)"
      ]
     },
     "execution_count": 55,
     "metadata": {},
     "output_type": "execute_result"
    }
   ],
   "source": [
    "kl_divergence(emp_dist, gt_dist)"
   ]
  },
  {
   "cell_type": "code",
   "execution_count": 62,
   "metadata": {},
   "outputs": [
    {
     "data": {
      "text/plain": [
       "tensor([[0.5863]])"
      ]
     },
     "execution_count": 62,
     "metadata": {},
     "output_type": "execute_result"
    }
   ],
   "source": [
    "censored.scale"
   ]
  },
  {
   "cell_type": "code",
   "execution_count": null,
   "metadata": {},
   "outputs": [],
   "source": []
  }
 ],
 "metadata": {
  "kernelspec": {
   "display_name": "Python 2",
   "language": "python",
   "name": "python2"
  },
  "language_info": {
   "codemirror_mode": {
    "name": "ipython",
    "version": 3
   },
   "file_extension": ".py",
   "mimetype": "text/x-python",
   "name": "python",
   "nbconvert_exporter": "python",
   "pygments_lexer": "ipython3",
   "version": "3.7.4"
  }
 },
 "nbformat": 4,
 "nbformat_minor": 2
}
