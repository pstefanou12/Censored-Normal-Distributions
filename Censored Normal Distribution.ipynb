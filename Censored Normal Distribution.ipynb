{
 "cells": [
  {
   "cell_type": "code",
   "execution_count": 11,
   "metadata": {},
   "outputs": [],
   "source": [
    "import sys \n",
    "sys.path.append('/Users/patroklos/Desktop/delphi_')\n",
    "\n",
    "import torch as ch\n",
    "from torch import Tensor\n",
    "from torch.distributions import Uniform\n",
    "from torch.distributions.multivariate_normal import MultivariateNormal\n",
    "from torch.distributions.kl import kl_divergence\n",
    "\n",
    "import seaborn as sns\n",
    "import matplotlib.pyplot as plt\n",
    "import IPython \n",
    "\n",
    "from delphi.distributions.censored_normal import CensoredNormal\n",
    "from delphi import oracle\n",
    "from delphi.utils import constants as consts\n",
    "from delphi.utils.helpers import setup_store_with_metadata, Parameters\n",
    "from cox.store import Store\n",
    "from cox.readers import CollectionReader"
   ]
  },
  {
   "cell_type": "code",
   "execution_count": 3,
   "metadata": {},
   "outputs": [],
   "source": [
    "args = Parameters({ \n",
    "    'samples': 1000, \n",
    "    'batch_size': 1, \n",
    "    'tol': 1e-1, \n",
    "    'lr': 1e-1, \n",
    "    'out_dir': '/Users/patroklos/Desktop/exp/censored',\n",
    "    'exp': 'new_nll_heur_again', \n",
    "    'trials': 20,\n",
    "    'var': 10,\n",
    "    'table_name': 'logs',\n",
    "})"
   ]
  },
  {
   "cell_type": "markdown",
   "metadata": {},
   "source": [
    "Synthetic Data Experiment for 1 Dimensional Censored Gaussian Distributions "
   ]
  },
  {
   "cell_type": "code",
   "execution_count": 34,
   "metadata": {},
   "outputs": [
    {
     "data": {
      "image/png": "[encoded data removed]",
      "text/plain": [
       "<Figure size 432x288 with 1 Axes>"
      ]
     },
     "metadata": {
      "needs_background": "light"
     },
     "output_type": "display_data"
    }
   ],
   "source": [
    "M = MultivariateNormal(Tensor([0.0]), 5.0*ch.ones(1, 1))\n",
    "samples = M.sample([args.samples])\n",
    "\n",
    "plt.hist(samples.flatten(), bins=100)\n",
    "plt.show()"
   ]
  },
  {
   "cell_type": "markdown",
   "metadata": {},
   "source": [
    "Truncate the Dataset"
   ]
  },
  {
   "cell_type": "code",
   "execution_count": 35,
   "metadata": {},
   "outputs": [
    {
     "name": "stdout",
     "output_type": "stream",
     "text": [
      "alpha: 0.494\n"
     ]
    },
    {
     "data": {
      "image/png": "[encoded data removed]",
      "text/plain": [
       "<Figure size 432x288 with 1 Axes>"
      ]
     },
     "metadata": {
      "needs_background": "light"
     },
     "output_type": "display_data"
    }
   ],
   "source": [
    "phi = oracle.Right_Distribution(Tensor([0.0]))\n",
    "# phi = oracle.Identity()\n",
    "indices = phi(samples).nonzero()[:,0]\n",
    "S = samples[indices]\n",
    "alpha = S.size(0) / samples.size(0)\n",
    "print(\"alpha: {}\".format(alpha))\n",
    "\n",
    "plt.hist(S.flatten(), bins=100)\n",
    "plt.show()"
   ]
  },
  {
   "cell_type": "code",
   "execution_count": 36,
   "metadata": {},
   "outputs": [
    {
     "name": "stdout",
     "output_type": "stream",
     "text": [
      "empirical mean:  tensor([-1.7521])\n",
      "empirical scale:  tensor([[1.3399]])\n"
     ]
    }
   ],
   "source": [
    "emp_loc = S.mean(0)\n",
    "print(\"empirical mean: \", emp_loc)\n",
    "emp_var = S.var(0)[...,None]\n",
    "emp_scale = ch.sqrt(emp_var)\n",
    "print(\"empirical scale: \", emp_scale)\n",
    "\n",
    "emp = MultivariateNormal(emp_loc, emp_var)\n",
    "\n",
    "S_norm = (S - emp_loc) / emp_scale\n",
    "phi_norm = oracle.Right_Distribution(((phi.right - emp_loc) / emp_scale).flatten())"
   ]
  },
  {
   "cell_type": "markdown",
   "metadata": {},
   "source": [
    "Run algorithm to Remove Bias from the Dataset"
   ]
  },
  {
   "cell_type": "code",
   "execution_count": 37,
   "metadata": {},
   "outputs": [
    {
     "data": {
      "text/plain": [
       "tensor([[0.5570]])"
      ]
     },
     "execution_count": 37,
     "metadata": {},
     "output_type": "execute_result"
    }
   ],
   "source": [
    "ch.ones(1, 1) / emp_var"
   ]
  },
  {
   "cell_type": "code",
   "execution_count": 38,
   "metadata": {},
   "outputs": [
    {
     "name": "stdout",
     "output_type": "stream",
     "text": [
      "estimated mean:  tensor([[0.2675]])\n",
      "estimated variance:  tensor([[3.9701]])\n"
     ]
    }
   ],
   "source": [
    "train_kwargs = Parameters({'phi': phi_norm, \n",
    "                           'alpha': alpha,\n",
    "                            'epochs': 5, \n",
    "                          'batch_size': 10, \n",
    "                          'num_samples': 10,\n",
    "                          'step_lr': 1000,\n",
    "                          'lr': 1e-1})\n",
    "censored = CensoredNormal(train_kwargs)\n",
    "censored.fit(S_norm)\n",
    "rescale_loc = censored.loc * emp_scale + emp_loc\n",
    "rescale_var = censored.variance * emp_var\n",
    "m = MultivariateNormal(rescale_loc, rescale_var)\n",
    "print(\"estimated mean: \", rescale_loc)\n",
    "print(\"estimated variance: \", rescale_var)"
   ]
  },
  {
   "cell_type": "code",
   "execution_count": 39,
   "metadata": {},
   "outputs": [
    {
     "name": "stdout",
     "output_type": "stream",
     "text": [
      "censored kl divergence:  tensor([0.0195])\n",
      "empirical kl divergence:  tensor(0.4987)\n"
     ]
    }
   ],
   "source": [
    "print(\"censored kl divergence: \", kl_divergence(m, M))\n",
    "print(\"empirical kl divergence: \", kl_divergence(emp, M))"
   ]
  },
  {
   "cell_type": "code",
   "execution_count": 40,
   "metadata": {},
   "outputs": [
    {
     "name": "stdout",
     "output_type": "stream",
     "text": [
      "Logging in: /Users/patroklos/Desktop/exp/censored/new_nll_heur_again/a08166a7-8cf1-4708-b8e5-578618bb0c45\n"
     ]
    },
    {
     "ename": "AssertionError",
     "evalue": "right size: torch.Size([1, 1]). expecting right size (d,).",
     "output_type": "error",
     "traceback": [
      "\u001b[0;31m---------------------------------------------------------------------------\u001b[0m",
      "\u001b[0;31mAssertionError\u001b[0m                            Traceback (most recent call last)",
      "\u001b[0;32m<ipython-input-40-1d9f45f702a7>\u001b[0m in \u001b[0;36m<module>\u001b[0;34m\u001b[0m\n\u001b[1;32m     27\u001b[0m \u001b[0;34m\u001b[0m\u001b[0m\n\u001b[1;32m     28\u001b[0m         \u001b[0mS_norm\u001b[0m \u001b[0;34m=\u001b[0m \u001b[0;34m(\u001b[0m\u001b[0mS\u001b[0m \u001b[0;34m-\u001b[0m \u001b[0memp_dist\u001b[0m\u001b[0;34m.\u001b[0m\u001b[0mloc\u001b[0m\u001b[0;34m)\u001b[0m \u001b[0;34m/\u001b[0m \u001b[0mch\u001b[0m\u001b[0;34m.\u001b[0m\u001b[0msqrt\u001b[0m\u001b[0;34m(\u001b[0m\u001b[0memp_dist\u001b[0m\u001b[0;34m.\u001b[0m\u001b[0mcovariance_matrix\u001b[0m\u001b[0;34m)\u001b[0m\u001b[0;34m\u001b[0m\u001b[0;34m\u001b[0m\u001b[0m\n\u001b[0;32m---> 29\u001b[0;31m         \u001b[0mphi_norm\u001b[0m \u001b[0;34m=\u001b[0m \u001b[0moracle\u001b[0m\u001b[0;34m.\u001b[0m\u001b[0mRight_Distribution\u001b[0m\u001b[0;34m(\u001b[0m\u001b[0;34m(\u001b[0m\u001b[0mphi\u001b[0m\u001b[0;34m.\u001b[0m\u001b[0mright\u001b[0m \u001b[0;34m-\u001b[0m \u001b[0memp_dist\u001b[0m\u001b[0;34m.\u001b[0m\u001b[0mloc\u001b[0m\u001b[0;34m)\u001b[0m \u001b[0;34m/\u001b[0m \u001b[0mch\u001b[0m\u001b[0;34m.\u001b[0m\u001b[0msqrt\u001b[0m\u001b[0;34m(\u001b[0m\u001b[0memp_dist\u001b[0m\u001b[0;34m.\u001b[0m\u001b[0mcovariance_matrix\u001b[0m\u001b[0;34m)\u001b[0m\u001b[0;34m)\u001b[0m\u001b[0;34m\u001b[0m\u001b[0;34m\u001b[0m\u001b[0m\n\u001b[0m\u001b[1;32m     30\u001b[0m \u001b[0;34m\u001b[0m\u001b[0m\n\u001b[1;32m     31\u001b[0m \u001b[0;34m\u001b[0m\u001b[0m\n",
      "\u001b[0;32m~/Desktop/delphi_/delphi/oracle.py\u001b[0m in \u001b[0;36m__init__\u001b[0;34m(self, right)\u001b[0m\n\u001b[1;32m    121\u001b[0m         \u001b[0msuper\u001b[0m\u001b[0;34m(\u001b[0m\u001b[0mRight_Distribution\u001b[0m\u001b[0;34m,\u001b[0m \u001b[0mself\u001b[0m\u001b[0;34m)\u001b[0m\u001b[0;34m.\u001b[0m\u001b[0m__init__\u001b[0m\u001b[0;34m(\u001b[0m\u001b[0;34m)\u001b[0m\u001b[0;34m\u001b[0m\u001b[0;34m\u001b[0m\u001b[0m\n\u001b[1;32m    122\u001b[0m         \u001b[0;32massert\u001b[0m \u001b[0misinstance\u001b[0m\u001b[0;34m(\u001b[0m\u001b[0mright\u001b[0m\u001b[0;34m,\u001b[0m \u001b[0mTensor\u001b[0m\u001b[0;34m)\u001b[0m\u001b[0;34m,\u001b[0m \u001b[0;34m\"right is type: {}. expecting right to be type torch.Tensor.\"\u001b[0m\u001b[0;34m.\u001b[0m\u001b[0mformat\u001b[0m\u001b[0;34m(\u001b[0m\u001b[0mtype\u001b[0m\u001b[0;34m(\u001b[0m\u001b[0mright\u001b[0m\u001b[0;34m)\u001b[0m\u001b[0;34m)\u001b[0m\u001b[0;34m\u001b[0m\u001b[0;34m\u001b[0m\u001b[0m\n\u001b[0;32m--> 123\u001b[0;31m         \u001b[0;32massert\u001b[0m \u001b[0mright\u001b[0m\u001b[0;34m.\u001b[0m\u001b[0mdim\u001b[0m\u001b[0;34m(\u001b[0m\u001b[0;34m)\u001b[0m \u001b[0;34m==\u001b[0m \u001b[0;36m1\u001b[0m\u001b[0;34m,\u001b[0m \u001b[0;34m\"right size: {}. expecting right size (d,).\"\u001b[0m\u001b[0;34m.\u001b[0m\u001b[0mformat\u001b[0m\u001b[0;34m(\u001b[0m\u001b[0mright\u001b[0m\u001b[0;34m.\u001b[0m\u001b[0msize\u001b[0m\u001b[0;34m(\u001b[0m\u001b[0;34m)\u001b[0m\u001b[0;34m)\u001b[0m\u001b[0;34m\u001b[0m\u001b[0;34m\u001b[0m\u001b[0m\n\u001b[0m\u001b[1;32m    124\u001b[0m         \u001b[0mself\u001b[0m\u001b[0;34m.\u001b[0m\u001b[0mright\u001b[0m \u001b[0;34m=\u001b[0m \u001b[0mright\u001b[0m\u001b[0;34m\u001b[0m\u001b[0;34m\u001b[0m\u001b[0m\n\u001b[1;32m    125\u001b[0m \u001b[0;34m\u001b[0m\u001b[0m\n",
      "\u001b[0;31mAssertionError\u001b[0m: right size: torch.Size([1, 1]). expecting right size (d,)."
     ]
    }
   ],
   "source": [
    "store = Store(args.out_dir + '/' + args.exp)\n",
    "\n",
    "schema = { \n",
    "    'kl_div_emp': float, \n",
    "    'kl_div_censored': float,\n",
    "    'var': int,\n",
    "    'alpha': float,\n",
    "}\n",
    "\n",
    "store.add_table(args.table_name, schema)\n",
    "\n",
    "for i in range(args.trials): \n",
    "    gt_loc = Uniform(-1, 1).sample([1,])\n",
    "    for var in range(1, args.var + 1):\n",
    "        # create new dataset\n",
    "        gt_scale = var * ch.ones(1, 1)\n",
    "        gt_dist = MultivariateNormal(gt_loc, gt_scale)\n",
    "        samples = gt_dist.sample([args.samples])\n",
    "\n",
    "        # right truncate at 0\n",
    "        phi = oracle.Right_Distribution(Tensor([0.0]))\n",
    "        indices = phi(samples).nonzero()[:,0]\n",
    "        S = samples[indices]\n",
    "        alpha = S.size(0) / samples.size(0)\n",
    "\n",
    "        emp_dist = MultivariateNormal(S.mean(0), S.var(0) * ch.ones(1, 1))\n",
    "\n",
    "        S_norm = (S - emp_dist.loc) / ch.sqrt(emp_dist.covariance_matrix) \n",
    "        phi_norm = oracle.Right_Distribution((phi.right - emp_dist.loc) / ch.sqrt(emp_dist.covariance_matrix))\n",
    "\n",
    "\n",
    "        censored = CensoredNormal(phi_norm, \n",
    "                                 alpha, \n",
    "                                  {'epochs': 2, \n",
    "                                    'bs': 10, \n",
    "                                    'num_samples': 10,\n",
    "                                    'lr': 1e-1})\n",
    "        censored.fit(S_norm)\n",
    "\n",
    "\n",
    "        loc_ = (censored.loc * ch.sqrt(emp_dist.covariance_matrix)) + emp_dist.loc\n",
    "        scale_ = censored.variance * emp_dist.covariance_matrix\n",
    "\n",
    "        censor_dist = MultivariateNormal(loc_, scale_)\n",
    "\n",
    "        kl_censor = float(kl_divergence(gt_dist, censor_dist))\n",
    "        kl_emp = float(kl_divergence(gt_dist, emp_dist))\n",
    "\n",
    "\n",
    "        store[args.table_name].update_row({ \n",
    "            'kl_div_emp': kl_emp, \n",
    "            'kl_div_censored': kl_censor,\n",
    "            'var': var,\n",
    "            'alpha': alpha,\n",
    "        })\n",
    "        store[args.table_name].flush_row()\n",
    "        \n",
    "        IPython.display.clear_output()\n",
    "\n",
    "    \n",
    "store.close()"
   ]
  },
  {
   "cell_type": "code",
   "execution_count": 10,
   "metadata": {},
   "outputs": [
    {
     "name": "stderr",
     "output_type": "stream",
     "text": [
      "100%|██████████| 1/1 [00:00<00:00, 96.67it/s]\n"
     ]
    },
    {
     "data": {
      "text/html": [
       "<div>\n",
       "<style scoped>\n",
       "    .dataframe tbody tr th:only-of-type {\n",
       "        vertical-align: middle;\n",
       "    }\n",
       "\n",
       "    .dataframe tbody tr th {\n",
       "        vertical-align: top;\n",
       "    }\n",
       "\n",
       "    .dataframe thead th {\n",
       "        text-align: right;\n",
       "    }\n",
       "</style>\n",
       "<table border=\"1\" class=\"dataframe\">\n",
       "  <thead>\n",
       "    <tr style=\"text-align: right;\">\n",
       "      <th></th>\n",
       "      <th>kl_div_emp</th>\n",
       "      <th>kl_div_censored</th>\n",
       "      <th>var</th>\n",
       "      <th>alpha</th>\n",
       "      <th>exp_id</th>\n",
       "    </tr>\n",
       "  </thead>\n",
       "  <tbody>\n",
       "    <tr>\n",
       "      <td>0</td>\n",
       "      <td>0.650738</td>\n",
       "      <td>0.005023</td>\n",
       "      <td>1</td>\n",
       "      <td>0.596</td>\n",
       "      <td>6b91620f-7c63-4304-bc8e-becf43d183bc</td>\n",
       "    </tr>\n",
       "    <tr>\n",
       "      <td>1</td>\n",
       "      <td>0.885104</td>\n",
       "      <td>0.011463</td>\n",
       "      <td>2</td>\n",
       "      <td>0.587</td>\n",
       "      <td>6b91620f-7c63-4304-bc8e-becf43d183bc</td>\n",
       "    </tr>\n",
       "    <tr>\n",
       "      <td>2</td>\n",
       "      <td>0.976660</td>\n",
       "      <td>0.050766</td>\n",
       "      <td>3</td>\n",
       "      <td>0.563</td>\n",
       "      <td>6b91620f-7c63-4304-bc8e-becf43d183bc</td>\n",
       "    </tr>\n",
       "    <tr>\n",
       "      <td>3</td>\n",
       "      <td>1.079767</td>\n",
       "      <td>0.000629</td>\n",
       "      <td>4</td>\n",
       "      <td>0.562</td>\n",
       "      <td>6b91620f-7c63-4304-bc8e-becf43d183bc</td>\n",
       "    </tr>\n",
       "    <tr>\n",
       "      <td>4</td>\n",
       "      <td>1.018563</td>\n",
       "      <td>0.046430</td>\n",
       "      <td>5</td>\n",
       "      <td>0.545</td>\n",
       "      <td>6b91620f-7c63-4304-bc8e-becf43d183bc</td>\n",
       "    </tr>\n",
       "    <tr>\n",
       "      <td>5</td>\n",
       "      <td>0.939171</td>\n",
       "      <td>0.043686</td>\n",
       "      <td>6</td>\n",
       "      <td>0.528</td>\n",
       "      <td>6b91620f-7c63-4304-bc8e-becf43d183bc</td>\n",
       "    </tr>\n",
       "    <tr>\n",
       "      <td>6</td>\n",
       "      <td>1.013613</td>\n",
       "      <td>0.051734</td>\n",
       "      <td>7</td>\n",
       "      <td>0.530</td>\n",
       "      <td>6b91620f-7c63-4304-bc8e-becf43d183bc</td>\n",
       "    </tr>\n",
       "    <tr>\n",
       "      <td>7</td>\n",
       "      <td>1.093240</td>\n",
       "      <td>0.028941</td>\n",
       "      <td>8</td>\n",
       "      <td>0.537</td>\n",
       "      <td>6b91620f-7c63-4304-bc8e-becf43d183bc</td>\n",
       "    </tr>\n",
       "    <tr>\n",
       "      <td>8</td>\n",
       "      <td>0.990693</td>\n",
       "      <td>0.023039</td>\n",
       "      <td>9</td>\n",
       "      <td>0.526</td>\n",
       "      <td>6b91620f-7c63-4304-bc8e-becf43d183bc</td>\n",
       "    </tr>\n",
       "    <tr>\n",
       "      <td>9</td>\n",
       "      <td>1.227815</td>\n",
       "      <td>0.008983</td>\n",
       "      <td>10</td>\n",
       "      <td>0.541</td>\n",
       "      <td>6b91620f-7c63-4304-bc8e-becf43d183bc</td>\n",
       "    </tr>\n",
       "  </tbody>\n",
       "</table>\n",
       "</div>"
      ],
      "text/plain": [
       "   kl_div_emp  kl_div_censored  var  alpha  \\\n",
       "0    0.650738         0.005023    1  0.596   \n",
       "1    0.885104         0.011463    2  0.587   \n",
       "2    0.976660         0.050766    3  0.563   \n",
       "3    1.079767         0.000629    4  0.562   \n",
       "4    1.018563         0.046430    5  0.545   \n",
       "5    0.939171         0.043686    6  0.528   \n",
       "6    1.013613         0.051734    7  0.530   \n",
       "7    1.093240         0.028941    8  0.537   \n",
       "8    0.990693         0.023039    9  0.526   \n",
       "9    1.227815         0.008983   10  0.541   \n",
       "\n",
       "                                 exp_id  \n",
       "0  6b91620f-7c63-4304-bc8e-becf43d183bc  \n",
       "1  6b91620f-7c63-4304-bc8e-becf43d183bc  \n",
       "2  6b91620f-7c63-4304-bc8e-becf43d183bc  \n",
       "3  6b91620f-7c63-4304-bc8e-becf43d183bc  \n",
       "4  6b91620f-7c63-4304-bc8e-becf43d183bc  \n",
       "5  6b91620f-7c63-4304-bc8e-becf43d183bc  \n",
       "6  6b91620f-7c63-4304-bc8e-becf43d183bc  \n",
       "7  6b91620f-7c63-4304-bc8e-becf43d183bc  \n",
       "8  6b91620f-7c63-4304-bc8e-becf43d183bc  \n",
       "9  6b91620f-7c63-4304-bc8e-becf43d183bc  "
      ]
     },
     "execution_count": 10,
     "metadata": {},
     "output_type": "execute_result"
    }
   ],
   "source": [
    "reader = CollectionReader(args.out_dir + '/' + args.exp)\n",
    "logs = reader.df(args.table_name)\n",
    "reader.close()\n",
    "logs.head(10)"
   ]
  },
  {
   "cell_type": "code",
   "execution_count": 11,
   "metadata": {},
   "outputs": [
    {
     "name": "stdout",
     "output_type": "stream",
     "text": [
      "kl emp div: 1.4757580121606588\n",
      "kl censor div: 0.17213519532233476\n"
     ]
    }
   ],
   "source": [
    "print(\"kl emp div: {}\".format(logs.kl_div_emp.mean()))\n",
    "print(\"kl censor div: {}\".format(logs.kl_div_censored.mean()))"
   ]
  },
  {
   "cell_type": "code",
   "execution_count": 12,
   "metadata": {},
   "outputs": [
    {
     "data": {
      "image/png": "[encoded data removed]",
      "text/plain": [
       "<Figure size 432x288 with 1 Axes>"
      ]
     },
     "metadata": {
      "needs_background": "light"
     },
     "output_type": "display_data"
    }
   ],
   "source": [
    "sns.lineplot(data=logs, x='var', y='kl_div_emp', color='red', label='Empirical Estimate')\n",
    "ax = sns.lineplot(data=logs, x='var', y='kl_div_censored', color='blue', label='Censored Estimate')\n",
    "ax.set_title('Censored Normal Varying Distribution Variance')\n",
    "ax.set_xlabel('$\\Sigma$')\n",
    "ax.set_ylabel('$D_{KL}(\\mathcal{N}(\\widetilde{\\mu}, \\widetilde{\\Sigma}) || \\mathcal{N}(\\mu^{*}, \\Sigma^{*}))$')\n",
    "ax.set_title('Variance 10 - 1D Censored')\n",
    "ax.legend()\n",
    "plt.show()"
   ]
  },
  {
   "cell_type": "code",
   "execution_count": 54,
   "metadata": {},
   "outputs": [],
   "source": [
    "gt_dist = MultivariateNormal(ch.zeros(1) + .5, ch.ones(1, 1))"
   ]
  },
  {
   "cell_type": "code",
   "execution_count": 21,
   "metadata": {},
   "outputs": [
    {
     "data": {
      "text/plain": [
       "tensor(0.1174)"
      ]
     },
     "execution_count": 21,
     "metadata": {},
     "output_type": "execute_result"
    }
   ],
   "source": [
    "gt_loc"
   ]
  },
  {
   "cell_type": "code",
   "execution_count": 62,
   "metadata": {},
   "outputs": [
    {
     "data": {
      "text/plain": [
       "tensor([[0.5863]])"
      ]
     },
     "execution_count": 62,
     "metadata": {},
     "output_type": "execute_result"
    }
   ],
   "source": [
    "censored.scale"
   ]
  },
  {
   "cell_type": "code",
   "execution_count": 13,
   "metadata": {},
   "outputs": [],
   "source": [
    "test = ch.randn(5,)"
   ]
  },
  {
   "cell_type": "code",
   "execution_count": 14,
   "metadata": {},
   "outputs": [
    {
     "data": {
      "text/plain": [
       "Parameter containing:\n",
       "tensor([-0.6663, -2.3218,  0.3456,  1.4994,  1.4930], requires_grad=True)"
      ]
     },
     "execution_count": 14,
     "metadata": {},
     "output_type": "execute_result"
    }
   ],
   "source": [
    "ch.nn.Parameter(test)"
   ]
  },
  {
   "cell_type": "code",
   "execution_count": null,
   "metadata": {},
   "outputs": [],
   "source": []
  }
 ],
 "metadata": {
  "kernelspec": {
   "display_name": "Python 2",
   "language": "python",
   "name": "python2"
  },
  "language_info": {
   "codemirror_mode": {
    "name": "ipython",
    "version": 3
   },
   "file_extension": ".py",
   "mimetype": "text/x-python",
   "name": "python",
   "nbconvert_exporter": "python",
   "pygments_lexer": "ipython3",
   "version": "3.7.4"
  }
 },
 "nbformat": 4,
 "nbformat_minor": 2
}
